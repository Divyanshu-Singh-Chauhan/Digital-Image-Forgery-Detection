{
  "nbformat": 4,
  "nbformat_minor": 0,
  "metadata": {
    "colab": {
      "name": "PCA_based_detection",
      "provenance": [],
      "collapsed_sections": [],
      "toc_visible": true,
      "include_colab_link": true
    },
    "kernelspec": {
      "name": "python3",
      "display_name": "Python 3"
    }
  },
  "cells": [
    {
      "cell_type": "markdown",
      "metadata": {
        "id": "view-in-github",
        "colab_type": "text"
      },
      "source": [
        "<a href=\"https://colab.research.google.com/github/Divyanshu-Singh-Chauhan/Image-Forgery-Detection/blob/master/PCA_based_detection.ipynb\" target=\"_parent\"><img src=\"https://colab.research.google.com/assets/colab-badge.svg\" alt=\"Open In Colab\"/></a>"
      ]
    },
    {
      "cell_type": "code",
      "metadata": {
        "id": "3cxufjs7N3Bd",
        "colab_type": "code",
        "colab": {}
      },
      "source": [
        "import cv2\n",
        "from google.colab.patches import cv2_imshow\n",
        "import matplotlib.pyplot as plt\n",
        "import time\n",
        "from sklearn.decomposition import PCA\n",
        "from sklearn.preprocessing import StandardScaler\n",
        "import numpy as np\n",
        "import math\n"
      ],
      "execution_count": null,
      "outputs": []
    },
    {
      "cell_type": "markdown",
      "metadata": {
        "id": "EFKSh7ybcsl_",
        "colab_type": "text"
      },
      "source": [
        "#**STEP 1 - READING AND PREPROCESSING**"
      ]
    },
    {
      "cell_type": "code",
      "metadata": {
        "id": "7jIa46ZYPH3K",
        "colab_type": "code",
        "colab": {
          "base_uri": "https://localhost:8080/",
          "height": 52
        },
        "outputId": "f20a9c1c-8a26-4fdf-bcdd-908ef7b28c04"
      },
      "source": [
        "##Reading the image in Gray Scale\n",
        "img = cv2.imread('/content/Aadhar_updated.png',0)\n",
        "img_resize = cv2.resize(img,(440,440))\n",
        "print(img.shape)\n",
        "print(img_resize.shape)"
      ],
      "execution_count": null,
      "outputs": [
        {
          "output_type": "stream",
          "text": [
            "(440, 644)\n",
            "(440, 440)\n"
          ],
          "name": "stdout"
        }
      ]
    },
    {
      "cell_type": "code",
      "metadata": {
        "id": "L1p4ft9PPM6q",
        "colab_type": "code",
        "colab": {}
      },
      "source": [
        "plt.imshow(img_resize,cmap = 'gray')"
      ],
      "execution_count": null,
      "outputs": []
    },
    {
      "cell_type": "markdown",
      "metadata": {
        "id": "sT3Juc8rc2qS",
        "colab_type": "text"
      },
      "source": [
        "#**STEP 2 - INITIALIZATING PARAMS**"
      ]
    },
    {
      "cell_type": "code",
      "metadata": {
        "id": "bHe_NZcZtMuR",
        "colab_type": "code",
        "colab": {}
      },
      "source": [
        " ##DEFINING THE PARAMETERS\n",
        "(winW,winH) = (8,8)\n",
        "stepsize = 1\n",
        "#n_root = img.shape[0]\n",
        "#e = 0.01              #fraction of the ignored variance along the principal axes\n",
        "q = 256               #number of quantization bins\n",
        "nn = 20             #number of neighboring rows to search in the lexicographically sorted matrix\n",
        "nf = 400        #minimum frequency threshold\n",
        "nd = 30              #minimum offset threshold\n",
        "n_components = 1\n",
        "#nt is chosen s.t n_components = 16"
      ],
      "execution_count": null,
      "outputs": []
    },
    {
      "cell_type": "markdown",
      "metadata": {
        "id": "UY53QOvydKjS",
        "colab_type": "text"
      },
      "source": [
        "#**STEP 3 - PCA REDUCTION ON IMAGE BLOCKS(SLIDING WINDOW)**"
      ]
    },
    {
      "cell_type": "code",
      "metadata": {
        "id": "elqbTqMqOBIF",
        "colab_type": "code",
        "colab": {}
      },
      "source": [
        "##DEFINING THE SLIDING WINDOW\n",
        "def sliding_window(image, stepSize, windowSize):\n",
        "\t# slide a window across the image\n",
        "\tfor y in range(0, image.shape[0], stepSize):\n",
        "\t\tfor x in range(0, image.shape[1], stepSize):\n",
        "\t\t\t# yield the current window\n",
        "\t\t\tyield (x, y, image[y:y + windowSize[1], x:x + windowSize[0]])"
      ],
      "execution_count": null,
      "outputs": []
    },
    {
      "cell_type": "code",
      "metadata": {
        "id": "s1cCAAQtp8RO",
        "colab_type": "code",
        "colab": {}
      },
      "source": [
        "###APPLYING PCA\n",
        "def pca_(image,n_components):\n",
        "\n",
        "  #scaler = StandardScaler()\n",
        "  #fit and transform to mean = 0\n",
        "  #scaler.fit(image)\n",
        "  #image = scaler.transform(image)\n",
        "  \n",
        "\n",
        "  #apply PCA with n_components = n_components\n",
        "  pca = PCA(n_components=n_components)\n",
        "  pca.fit(image)\n",
        "\n",
        "  #pca.n_components\n",
        "  #print(pca._n_components)\n",
        "\n",
        "  #apply pca transformation\n",
        "  train_img = pca.transform(image)\n",
        "  \n",
        "  #prints\n",
        "  #print(np.mean(image))\n",
        "  #print(np.mean(train_img))\n",
        "  #prints(train_img.shape)\n",
        "  #print(pca.explained_variance_ratio_)\n",
        "\n",
        "  return train_img"
      ],
      "execution_count": null,
      "outputs": []
    },
    {
      "cell_type": "markdown",
      "metadata": {
        "id": "Nnc8reGZd47I",
        "colab_type": "text"
      },
      "source": [
        "#**STEP 4 - BUILDING A FLATTENED MATRIX OF REDUCED FEATURES OF (NB * B)** "
      ]
    },
    {
      "cell_type": "code",
      "metadata": {
        "id": "WVgSMgE6Oam-",
        "colab_type": "code",
        "colab": {}
      },
      "source": [
        "###ARRAY IS GENERATED WITH ROWS CORRESPONDING TO IMAGE OF THE EACH BLOCK\n",
        "\n",
        "coord_arr = []\n",
        "def arr_generate(image):\n",
        "\n",
        "  count = 1\n",
        "  cnt = 0\n",
        "  for (x, y, window) in sliding_window(image, stepSize=stepsize, windowSize=(winW, winH)):\n",
        "    if window.shape[0]!=winH or window.shape[1]!= winW:\n",
        "      continue \n",
        "    if count == 1:\n",
        "      arr_flat = []\n",
        "      count +=1\n",
        "    coord_arr.append((x,y)) #### storing the top-left coordinates of each block\n",
        "    window = window.flatten()\n",
        "    window = window.tolist()\n",
        "    arr_flat.append(window)   \n",
        "\n",
        "  return arr_flat    "
      ],
      "execution_count": null,
      "outputs": []
    },
    {
      "cell_type": "code",
      "metadata": {
        "id": "FtMraXe0n7TM",
        "colab_type": "code",
        "colab": {}
      },
      "source": [
        "arr = arr_generate(img_resize)\n",
        "arr= np.array(arr,float)\n",
        "arr = arr/q     ##using quantization bin i.e q = 255.0  "
      ],
      "execution_count": null,
      "outputs": []
    },
    {
      "cell_type": "code",
      "metadata": {
        "id": "GP7NxiiJ6h1w",
        "colab_type": "code",
        "colab": {
          "base_uri": "https://localhost:8080/",
          "height": 34
        },
        "outputId": "49b4906e-97f8-4e76-b49a-857e52e47d7b"
      },
      "source": [
        "arr.shape"
      ],
      "execution_count": null,
      "outputs": [
        {
          "output_type": "execute_result",
          "data": {
            "text/plain": [
              "(187489, 64)"
            ]
          },
          "metadata": {
            "tags": []
          },
          "execution_count": 283
        }
      ]
    },
    {
      "cell_type": "code",
      "metadata": {
        "id": "yyi3KCTgt5-p",
        "colab_type": "code",
        "colab": {}
      },
      "source": [
        "arr_red = pca_(arr,64)"
      ],
      "execution_count": null,
      "outputs": []
    },
    {
      "cell_type": "code",
      "metadata": {
        "id": "c4dVfVz0uBuF",
        "colab_type": "code",
        "colab": {}
      },
      "source": [
        "arr_red[0:8]"
      ],
      "execution_count": null,
      "outputs": []
    },
    {
      "cell_type": "markdown",
      "metadata": {
        "id": "VK7O99XseSIi",
        "colab_type": "text"
      },
      "source": [
        "**STEP 5 - SORTING THE MATRIX LEXOGRAPHICALLY AND RETRIEVING THE ORDERED COORDINATES OF THE BLOCK**"
      ]
    },
    {
      "cell_type": "code",
      "metadata": {
        "id": "VZWFXqpnqk-T",
        "colab_type": "code",
        "colab": {}
      },
      "source": [
        "###Lexicographical Sorting \n",
        "\n",
        "def lexsort(x):\n",
        "  return x[np.lexsort(np.rot90(x))]  "
      ],
      "execution_count": null,
      "outputs": []
    },
    {
      "cell_type": "code",
      "metadata": {
        "id": "8dncPnpKKt51",
        "colab_type": "code",
        "colab": {
          "base_uri": "https://localhost:8080/",
          "height": 242
        },
        "outputId": "ac04e8a4-ce02-426e-f06e-a22e9a6339fc"
      },
      "source": [
        "##Sorted array created above through reduced features\n",
        "arr_sorted = lexsort(arr_red)\n",
        "print(arr_sorted[50:150])\n",
        "##We have the sorted array"
      ],
      "execution_count": null,
      "outputs": [
        {
          "output_type": "stream",
          "text": [
            "[[-1.54009377e+00  1.02582823e-01  4.30372129e-01 ...  4.22583353e-04\n",
            "  -3.50769052e-04  1.56089762e-04]\n",
            " [-1.53998341e+00  1.14669759e-01  4.26288775e-01 ...  7.34712694e-04\n",
            "  -1.10469491e-03 -7.02102113e-04]\n",
            " [-1.53963950e+00  9.76935798e-02  4.34717985e-01 ... -3.64978282e-04\n",
            "   4.05549901e-04 -3.13830643e-04]\n",
            " ...\n",
            " [-1.44185282e+00  8.56799224e-02  4.40358074e-01 ...  9.11826893e-05\n",
            "   4.78662290e-04  5.06994614e-03]\n",
            " [-1.43810942e+00  1.20139016e-01  4.49254275e-01 ... -8.90521967e-04\n",
            "  -1.08594361e-04 -1.15691510e-03]\n",
            " [-1.43762766e+00 -9.51821659e-03  6.43336934e-03 ...  2.67982961e-04\n",
            "  -1.04603910e-04 -1.87947394e-04]]\n"
          ],
          "name": "stdout"
        }
      ]
    },
    {
      "cell_type": "code",
      "metadata": {
        "id": "Lq2PIA1O6xtK",
        "colab_type": "code",
        "colab": {
          "base_uri": "https://localhost:8080/",
          "height": 34
        },
        "outputId": "9aad2c46-a707-4d64-a0eb-7430995942bd"
      },
      "source": [
        "arr_sorted_index = np.lexsort(np.rot90(arr_red))\n",
        "print(arr_sorted_index)"
      ],
      "execution_count": null,
      "outputs": [
        {
          "output_type": "stream",
          "text": [
            "[  297   298   299 ... 83063 83064 83065]\n"
          ],
          "name": "stdout"
        }
      ]
    },
    {
      "cell_type": "code",
      "metadata": {
        "id": "5gJtpjfFJ63Y",
        "colab_type": "code",
        "colab": {}
      },
      "source": [
        "###Now we have the index and the coordinates of the blocks and we need to reorder the coordinates list\n",
        "#coord_arr  --- list of the cooordinates\n",
        "#arr_sorted_index --- list of the indices of the sorted list"
      ],
      "execution_count": null,
      "outputs": []
    },
    {
      "cell_type": "code",
      "metadata": {
        "id": "0BDOfMnxKbSN",
        "colab_type": "code",
        "colab": {}
      },
      "source": [
        "arr_sorted_index = arr_sorted_index.tolist()"
      ],
      "execution_count": null,
      "outputs": []
    },
    {
      "cell_type": "code",
      "metadata": {
        "id": "-9MlaxqiL7Aq",
        "colab_type": "code",
        "colab": {}
      },
      "source": [
        "### Finding the reordered list\n",
        "#coord_arr_sorted = [x for y, x in sorted(zip(arr_sorted_index,coord_arr))]\n",
        "coord_arr_sorted = []\n",
        "for i in arr_sorted_index:\n",
        "  coord_arr_sorted.append(coord_arr[i])\n",
        "##Now we have the list of ordered coordinates of the image blocks"
      ],
      "execution_count": null,
      "outputs": []
    },
    {
      "cell_type": "markdown",
      "metadata": {
        "id": "bu8x92d-fS7B",
        "colab_type": "text"
      },
      "source": [
        "#**STEP 6 - GENERATING ALL POSSIBLE PAIRS WITH A GIVEN THRESHOLD**"
      ]
    },
    {
      "cell_type": "code",
      "metadata": {
        "id": "bcZYXOP2Ip2X",
        "colab_type": "code",
        "colab": {}
      },
      "source": [
        "#### Calculating the pairs given in eqn 6\n",
        "nb = arr_sorted.shape[0]\n",
        "pairs_list = []\n",
        "for i in range(int(nb)):\n",
        "  for j in range(i+1,i+nn) :\n",
        "    if j < nb:\n",
        "      pairs_list.append([coord_arr_sorted[i],coord_arr_sorted[j]])"
      ],
      "execution_count": null,
      "outputs": []
    },
    {
      "cell_type": "code",
      "metadata": {
        "id": "PVzNmbmqOnRc",
        "colab_type": "code",
        "colab": {
          "base_uri": "https://localhost:8080/",
          "height": 52
        },
        "outputId": "fa2f355f-8d9d-4c7a-82a1-208a18991a13"
      },
      "source": [
        "\n",
        "print(len(pairs_list))\n",
        "print(pairs_list[1])"
      ],
      "execution_count": null,
      "outputs": [
        {
          "output_type": "stream",
          "text": [
            "3562101\n",
            "[(297, 0), (299, 0)]\n"
          ],
          "name": "stdout"
        }
      ]
    },
    {
      "cell_type": "markdown",
      "metadata": {
        "id": "5Kvk8QFghfMm",
        "colab_type": "text"
      },
      "source": [
        "#**STEP 7 - COMPUTING THE OFFSETS OF THE PREVIOUS GENERATED PAIRS**"
      ]
    },
    {
      "cell_type": "code",
      "metadata": {
        "id": "mONG9kHmPvOr",
        "colab_type": "code",
        "colab": {
          "base_uri": "https://localhost:8080/",
          "height": 34
        },
        "outputId": "b69bb721-cda2-4316-d606-d9884db495e8"
      },
      "source": [
        "#### COMPUTING LIST OF OFFSETS\n",
        "\n",
        "offset_list = []\n",
        "for i in range(len(pairs_list)):\n",
        "  if (pairs_list[i][0][0]-pairs_list[i][1][0]) == 0:\n",
        "    offset_list.append([0,abs(pairs_list[i][0][1]-pairs_list[i][1][1])])\n",
        "  else :\n",
        "    offset_list.append([abs(pairs_list[i][0][0]-pairs_list[i][1][0]),(pairs_list[i][0][1]-pairs_list[i][1][1])])\n",
        "\n",
        "len(offset_list)"
      ],
      "execution_count": null,
      "outputs": [
        {
          "output_type": "execute_result",
          "data": {
            "text/plain": [
              "3562101"
            ]
          },
          "metadata": {
            "tags": []
          },
          "execution_count": 327
        }
      ]
    },
    {
      "cell_type": "code",
      "metadata": {
        "id": "tz1qQiAgomn2",
        "colab_type": "code",
        "colab": {
          "base_uri": "https://localhost:8080/",
          "height": 34
        },
        "outputId": "64fee58b-5991-41fb-94df-81eae8ad9f40"
      },
      "source": [
        "print(offset_list[1])"
      ],
      "execution_count": null,
      "outputs": [
        {
          "output_type": "stream",
          "text": [
            "[2, 0]\n"
          ],
          "name": "stdout"
        }
      ]
    },
    {
      "cell_type": "markdown",
      "metadata": {
        "id": "zf-LvLcDh1V8",
        "colab_type": "text"
      },
      "source": [
        "#**STEP 8 - DISCARDING PAIRS WITH OFFSET FREQUENCY LESS THAN A THRESHOLD**"
      ]
    },
    {
      "cell_type": "code",
      "metadata": {
        "id": "3Fi9ZAAx_Byt",
        "colab_type": "code",
        "colab": {}
      },
      "source": [
        "### DISCARDING PAIRS WITH VALUES LESS THAN OFFSET FREQUENCY \n",
        "mp = dict()\n",
        "def offset_freq(list1):\n",
        "  lista = list1.copy()\n",
        "  for i in range(len(lista)):\n",
        "    if tuple(lista[i]) in mp.keys():\n",
        "      mp[tuple(lista[i])] +=1\n",
        "    else:\n",
        "      mp[tuple(lista[i])] = 1\n",
        "\n",
        "  for j in range(len(lista)):\n",
        "    if mp[tuple(lista[j])]< nf:\n",
        "      lista[j] = 0            \n",
        "  return lista      "
      ],
      "execution_count": null,
      "outputs": []
    },
    {
      "cell_type": "markdown",
      "metadata": {
        "id": "mkYixsVOicbH",
        "colab_type": "text"
      },
      "source": [
        "#**STEP 9 - DISCARDING PAIRS WITH OFFSET MAGN. LESS THAN THRESHOLD**"
      ]
    },
    {
      "cell_type": "code",
      "metadata": {
        "id": "qz1Pj5XsT7T1",
        "colab_type": "code",
        "colab": {}
      },
      "source": [
        "#### DISCARD FUNCTION FOR OFFSET MAGNITUDE\n",
        "\n",
        "def offset_magnitude(lista):\n",
        "  \n",
        "  for i in range(len(lista)):\n",
        "    if lista[i]!=0:\n",
        "      magnitude = math.sqrt(lista[i][0]**2+lista[i][1]**2)\n",
        "      if magnitude > nd:\n",
        "        lista[i] = None\n",
        "      else :\n",
        "        lista[i] = 0      \n",
        "      \n",
        "  return lista"
      ],
      "execution_count": null,
      "outputs": []
    },
    {
      "cell_type": "markdown",
      "metadata": {
        "id": "sFjKlTgxjJFw",
        "colab_type": "text"
      },
      "source": [
        "# **STEP 10 - COMPUTING THE REMAINING COORDINATES OF THE BLOCKS**"
      ]
    },
    {
      "cell_type": "code",
      "metadata": {
        "id": "Xm_lNTB54qAI",
        "colab_type": "code",
        "colab": {}
      },
      "source": [
        "lista = offset_freq(offset_list)"
      ],
      "execution_count": null,
      "outputs": []
    },
    {
      "cell_type": "code",
      "metadata": {
        "id": "U9_mZdee4xod",
        "colab_type": "code",
        "colab": {}
      },
      "source": [
        "updated_offset_list = offset_magnitude(lista)\n"
      ],
      "execution_count": null,
      "outputs": []
    },
    {
      "cell_type": "code",
      "metadata": {
        "id": "IKINGcgHUe_D",
        "colab_type": "code",
        "colab": {}
      },
      "source": [
        "mp"
      ],
      "execution_count": null,
      "outputs": []
    },
    {
      "cell_type": "code",
      "metadata": {
        "id": "4stDVWr8iZkv",
        "colab_type": "code",
        "colab": {}
      },
      "source": [
        "### MAPPING OF NONE ELEMENTS TO THE COORDINATES\n",
        "\n",
        "## getting the indices of the None elements\n",
        "res = [i for i, val in enumerate(updated_offset_list) if val == None]\n",
        "\n",
        "### RETRIEVE THE DUPLICATED COORDINATE PAIRS \n",
        "updated_pairs_list = []\n",
        "for i in res:\n",
        "  updated_pairs_list.append(pairs_list[i]) "
      ],
      "execution_count": null,
      "outputs": []
    },
    {
      "cell_type": "code",
      "metadata": {
        "id": "v5BTa_HCl3QZ",
        "colab_type": "code",
        "colab": {
          "base_uri": "https://localhost:8080/",
          "height": 34
        },
        "outputId": "083e334a-9668-4fa0-cecd-0dfc248c7dee"
      },
      "source": [
        "len(updated_pairs_list)"
      ],
      "execution_count": null,
      "outputs": [
        {
          "output_type": "execute_result",
          "data": {
            "text/plain": [
              "638"
            ]
          },
          "metadata": {
            "tags": []
          },
          "execution_count": 366
        }
      ]
    },
    {
      "cell_type": "code",
      "metadata": {
        "id": "chlW6xXMqHaY",
        "colab_type": "code",
        "colab": {}
      },
      "source": [
        "### Flattening the Updated_pairs_list\n",
        "flat_list = []\n",
        "for sublist in updated_pairs_list:\n",
        "    for item in sublist:\n",
        "        flat_list.append(item)"
      ],
      "execution_count": null,
      "outputs": []
    },
    {
      "cell_type": "code",
      "metadata": {
        "id": "0DLC5TniWfp1",
        "colab_type": "code",
        "colab": {
          "base_uri": "https://localhost:8080/",
          "height": 34
        },
        "outputId": "d80828f5-a0c2-44d6-f075-2fdd27020d4c"
      },
      "source": [
        "len(flat_list)"
      ],
      "execution_count": null,
      "outputs": [
        {
          "output_type": "execute_result",
          "data": {
            "text/plain": [
              "1276"
            ]
          },
          "metadata": {
            "tags": []
          },
          "execution_count": 368
        }
      ]
    },
    {
      "cell_type": "code",
      "metadata": {
        "id": "3vOob5YctSxl",
        "colab_type": "code",
        "colab": {}
      },
      "source": [
        "### FINAL LIST CONSISTING OF TUPLES OF COORDINATES WITH DUPLICATIONS WHICH WILL BE DIRECTLY USED TO GENERATE THE GRAYSCALE IMAGE\n",
        "unique = np.unique(flat_list, axis=0)"
      ],
      "execution_count": null,
      "outputs": []
    },
    {
      "cell_type": "code",
      "metadata": {
        "id": "NJ67KRYmGTkS",
        "colab_type": "code",
        "colab": {
          "base_uri": "https://localhost:8080/",
          "height": 34
        },
        "outputId": "d9492716-c6d5-4e7d-bbc5-d35e7f190286"
      },
      "source": [
        "len(unique)"
      ],
      "execution_count": null,
      "outputs": [
        {
          "output_type": "execute_result",
          "data": {
            "text/plain": [
              "1263"
            ]
          },
          "metadata": {
            "tags": []
          },
          "execution_count": 370
        }
      ]
    },
    {
      "cell_type": "code",
      "metadata": {
        "id": "clErCHM3uLMQ",
        "colab_type": "code",
        "colab": {
          "base_uri": "https://localhost:8080/",
          "height": 190
        },
        "outputId": "d6dd0d0c-1541-4189-9d18-ad2229a33aa3"
      },
      "source": [
        "unique[1:11]"
      ],
      "execution_count": null,
      "outputs": [
        {
          "output_type": "execute_result",
          "data": {
            "text/plain": [
              "array([[ 22, 217],\n",
              "       [ 22, 218],\n",
              "       [ 22, 229],\n",
              "       [ 22, 230],\n",
              "       [ 22, 231],\n",
              "       [ 22, 232],\n",
              "       [ 22, 233],\n",
              "       [ 22, 307],\n",
              "       [ 22, 308],\n",
              "       [ 22, 309]])"
            ]
          },
          "metadata": {
            "tags": []
          },
          "execution_count": 371
        }
      ]
    },
    {
      "cell_type": "markdown",
      "metadata": {
        "id": "FyFSEIEpjWgI",
        "colab_type": "text"
      },
      "source": [
        "#**STEP 11 - GENERATING THE DUPLICATE IMAGE WITH THE TAMPERED AREA**"
      ]
    },
    {
      "cell_type": "code",
      "metadata": {
        "id": "6YYN1bqZL-KY",
        "colab_type": "code",
        "colab": {
          "base_uri": "https://localhost:8080/",
          "height": 286
        },
        "outputId": "287ce12e-1668-41cf-9c02-5beb91b6e1aa"
      },
      "source": [
        "### creating an array of the same size as that of resized input image\n",
        "duplication = np.zeros((img_resize.shape[0],img_resize.shape[1]))\n",
        "\n",
        "### Giving values to the duplicated regions as 255\n",
        "for coord in unique:\n",
        "  duplication[coord[0]:coord[0]+winW,coord[1]:coord[1]+winH] = 255  \n",
        "\n",
        "duplication_rotate = cv2.rotate(duplication,cv2.ROTATE_90_COUNTERCLOCKWISE)\n",
        "dup_aligned = cv2.flip(duplication_rotate,0)\n",
        "### Showing the image\n",
        "plt.gray\n",
        "plt.imshow(dup_aligned, cmap = 'gray', vmin = 0, vmax = 255)  "
      ],
      "execution_count": null,
      "outputs": [
        {
          "output_type": "execute_result",
          "data": {
            "text/plain": [
              "<matplotlib.image.AxesImage at 0x7f28dc4b1940>"
            ]
          },
          "metadata": {
            "tags": []
          },
          "execution_count": 372
        },
        {
          "output_type": "display_data",
          "data": {
            "image/png": "[encoded data removed]",
            "text/plain": [
              "<Figure size 432x288 with 1 Axes>"
            ]
          },
          "metadata": {
            "tags": [],
            "needs_background": "light"
          }
        }
      ]
    },
    {
      "cell_type": "code",
      "metadata": {
        "id": "mLAcF34VldxD",
        "colab_type": "code",
        "colab": {}
      },
      "source": [
        "plt.imshow(img_resize,cmap = 'gray')"
      ],
      "execution_count": null,
      "outputs": []
    }
  ]
}