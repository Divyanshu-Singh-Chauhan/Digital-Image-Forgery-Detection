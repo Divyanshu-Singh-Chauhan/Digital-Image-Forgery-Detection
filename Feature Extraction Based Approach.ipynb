{
  "nbformat": 4,
  "nbformat_minor": 0,
  "metadata": {
    "colab": {
      "name": "2nd research paper",
      "provenance": [],
      "collapsed_sections": [],
      "authorship_tag": "ABX9TyPcoONa4fuO8GKvhKU+gfB/",
      "include_colab_link": true
    },
    "kernelspec": {
      "name": "python3",
      "display_name": "Python 3"
    }
  },
  "cells": [
    {
      "cell_type": "markdown",
      "metadata": {
        "id": "view-in-github",
        "colab_type": "text"
      },
      "source": [
        "<a href=\"https://colab.research.google.com/github/Divyanshu-Singh-Chauhan/Image-Forgery-Detection/blob/master/2nd_research_paper.ipynb\" target=\"_parent\"><img src=\"https://colab.research.google.com/assets/colab-badge.svg\" alt=\"Open In Colab\"/></a>"
      ]
    },
    {
      "cell_type": "code",
      "metadata": {
        "id": "WI04ncpWpyMG",
        "colab_type": "code",
        "colab": {}
      },
      "source": [
        "import cv2\n",
        "from google.colab.patches import cv2_imshow\n",
        "import matplotlib.pyplot as plt\n",
        "import time\n",
        "from sklearn.decomposition import PCA\n",
        "from sklearn.preprocessing import StandardScaler\n",
        "import numpy as np\n",
        "import math"
      ],
      "execution_count": null,
      "outputs": []
    },
    {
      "cell_type": "code",
      "metadata": {
        "id": "uE6BBbeGUXi7",
        "colab_type": "code",
        "colab": {}
      },
      "source": [
        " ##DEFINING THE PARAMETERS\n",
        "(winW,winH) = (8,8)\n",
        "stepsize = 2\n",
        "#n_root = img.shape[0]\n",
        "#e = 0.01             #fraction of the ignored variance along the principal axes\n",
        "#q = 256               #number of quantization bins\n",
        "nn = 2               #number of neighboring rows to search in the lexicographically sorted matrix\n",
        "nf = 1         #minimum frequency threshold\n",
        "nd = 30            #minimum offset threshold\n",
        "n_components = 1\n",
        "#nt is chosen s.t n_components = 16"
      ],
      "execution_count": null,
      "outputs": []
    },
    {
      "cell_type": "code",
      "metadata": {
        "id": "hsaxTJKFpzxG",
        "colab_type": "code",
        "colab": {
          "base_uri": "https://localhost:8080/",
          "height": 52
        },
        "outputId": "aa83a3da-c8ba-49f4-f558-d85f94a87af8"
      },
      "source": [
        "##Reading the image in Gray Scale\n",
        "img = cv2.imread('/content/Aadhar_updated.png',1)\n",
        "img_grey = cv2.imread('/content/Aadhar_updated.png',0)\n",
        "img_grey_resize = cv2.resize(img_grey,(440,440))\n",
        "#img2 = img_grey_resize[0:30,0:30]\n",
        "img_resize = cv2.resize(img,(440,440))\n",
        "print(img_resize.shape)\n",
        "print(img_grey_resize.shape)\n",
        "#print(img_resize.shape)\n",
        "#img1 = img_resize[0:30,0:30]\n",
        "#print(img1.shape)"
      ],
      "execution_count": null,
      "outputs": [
        {
          "output_type": "stream",
          "text": [
            "(440, 440, 3)\n",
            "(440, 440)\n"
          ],
          "name": "stdout"
        }
      ]
    },
    {
      "cell_type": "code",
      "metadata": {
        "id": "sLlTzVfztteK",
        "colab_type": "code",
        "colab": {}
      },
      "source": [
        "class Blocks(object):\n",
        "    \"\"\"\n",
        "    Contains a single image block and handle the calculation of characteristic features\n",
        "    \"\"\"\n",
        "\n",
        "    def __init__(self, grayscale_image_block, rgb_image_block, x_coordinate, y_coordinate, block_dimension):\n",
        "        \"\"\"\n",
        "        Initializing the input image\n",
        "        :param grayscale_image_block: grayscale image block\n",
        "        :param rgb_image_block: rgb image block\n",
        "        :param x_coordinate: x coordinate (upper-left)\n",
        "        :param y_coordinate: y coordinate (upper-left)\n",
        "        :return: None\n",
        "        \"\"\"\n",
        "        self.image_grayscale_pixels = grayscale_image_block  # block of grayscale image\n",
        "        #self.image_grayscale_pixels = self.image_grayscale.load()\n",
        "\n",
        "        if rgb_image_block is not None:\n",
        "            self.image_rgb_pixels = rgb_image_block\n",
        "            #self.image_rgb_pixels = self.image_rgb.load()\n",
        "            self.is_image_rgb = True\n",
        "        else:\n",
        "            self.is_image_rgb = False\n",
        "\n",
        "        self.coordinate = (x_coordinate, y_coordinate)\n",
        "        self.block_dimension = block_dimension\n",
        "\n",
        "\n",
        "    def compute_characteristic_features(self, precision):\n",
        "        \"\"\"\n",
        "        Compute 7 characteristic features from every image blocks\n",
        "        :param precision: feature characteristic precision\n",
        "        :return: None\n",
        "        \"\"\"\n",
        "\n",
        "        characteristic_feature_list = []\n",
        "\n",
        "        # variable to compute characteristic features\n",
        "        c4_part1 = 0\n",
        "        c4_part2 = 0\n",
        "        c5_part1 = 0\n",
        "        c5_part2 = 0\n",
        "        c6_part1 = 0\n",
        "        c6_part2 = 0\n",
        "        c7_part1 = 0\n",
        "        c7_part2 = 0\n",
        "\n",
        "        \"\"\" Compute c1, c2, c3 according to the image block's colorspace \"\"\"\n",
        "\n",
        "        if self.is_image_rgb:\n",
        "            sum_of_red_pixel_value = 0\n",
        "            sum_of_green_pixel_value = 0\n",
        "            sum_of_blue_pixel_value = 0\n",
        "            for y_coordinate in range(0, self.block_dimension):  # compute sum of the pixel value\n",
        "                for x_coordinate in range(0, self.block_dimension):\n",
        "                    tmp_red, tmp_green, tmp_blue = self.image_rgb_pixels[x_coordinate, y_coordinate]\n",
        "                    sum_of_red_pixel_value += tmp_red\n",
        "                    sum_of_green_pixel_value += tmp_green\n",
        "                    sum_of_blue_pixel_value += tmp_blue\n",
        "\n",
        "            sum_of_pixels = self.block_dimension * self.block_dimension\n",
        "            sum_of_red_pixel_value = sum_of_red_pixel_value / (sum_of_pixels)  # mean from each of the colorspaces\n",
        "            sum_of_green_pixel_value = sum_of_green_pixel_value / (sum_of_pixels)\n",
        "            sum_of_blue_pixel_value = sum_of_blue_pixel_value / (sum_of_pixels)\n",
        "\n",
        "            characteristic_feature_list.append(sum_of_red_pixel_value)\n",
        "            characteristic_feature_list.append(sum_of_green_pixel_value)\n",
        "            characteristic_feature_list.append(sum_of_blue_pixel_value)\n",
        "\n",
        "        else:\n",
        "            characteristic_feature_list.append(0)\n",
        "            characteristic_feature_list.append(0)\n",
        "            characteristic_feature_list.append(0)\n",
        "\n",
        "        \"\"\" Compute  c4, c5, c6 and c7 according to the pattern rule on the second paper\"\"\"\n",
        "        for y_coordinate in range(0, self.block_dimension):  # compute the part 1 and part 2 of each feature characteristic\n",
        "            for x_coordinate in range(0, self.block_dimension):\n",
        "                # compute c4\n",
        "                if y_coordinate <= self.block_dimension / 2:\n",
        "                    c4_part1 += self.image_grayscale_pixels[x_coordinate, y_coordinate]\n",
        "                else:\n",
        "                    c4_part2 += self.image_grayscale_pixels[x_coordinate, y_coordinate]\n",
        "                # compute c5\n",
        "                if x_coordinate <= self.block_dimension / 2:\n",
        "                    c5_part1 += self.image_grayscale_pixels[x_coordinate, y_coordinate]\n",
        "                else:\n",
        "                    c5_part2 += self.image_grayscale_pixels[x_coordinate, y_coordinate]\n",
        "                # compute c6\n",
        "                if x_coordinate - y_coordinate >= 0:\n",
        "                    c6_part1 += self.image_grayscale_pixels[x_coordinate, y_coordinate]\n",
        "                else:\n",
        "                    c6_part2 += self.image_grayscale_pixels[x_coordinate, y_coordinate]\n",
        "                # compute c7\n",
        "                if x_coordinate + y_coordinate <= self.block_dimension:\n",
        "                    c7_part1 += self.image_grayscale_pixels[x_coordinate, y_coordinate]\n",
        "                else:\n",
        "                    c7_part2 += self.image_grayscale_pixels[x_coordinate, y_coordinate]\n",
        "\n",
        "        if (float(c4_part1 + c4_part2)) == 0:\n",
        "          characteristic_feature_list.append(0)\n",
        "        else :\n",
        "          characteristic_feature_list.append(float(c4_part1) / float(c4_part1 + c4_part2))\n",
        "\n",
        "        if (float(c5_part1 + c5_part2)) == 0:\n",
        "          characteristic_feature_list.append(0)\n",
        "        else :\n",
        "          characteristic_feature_list.append(float(c5_part1) / float(c5_part1 + c5_part2))\n",
        "\n",
        "        if (float(c6_part1 + c6_part2)) == 0:\n",
        "          characteristic_feature_list.append(0)\n",
        "        else :\n",
        "          characteristic_feature_list.append(float(c6_part1) / float(c6_part1 + c6_part2))                    \n",
        "\n",
        "        if (float(c7_part1 + c7_part2)) == 0:\n",
        "          characteristic_feature_list.append(0)\n",
        "        else :\n",
        "          characteristic_feature_list.append(float(c7_part1) / float(c7_part1 + c7_part2))\n",
        "          \n",
        "        precise_result = [round(element, precision) for element in characteristic_feature_list]\n",
        "        return precise_result\n"
      ],
      "execution_count": null,
      "outputs": []
    },
    {
      "cell_type": "code",
      "metadata": {
        "id": "d7cgym0CvqYi",
        "colab_type": "code",
        "colab": {}
      },
      "source": [
        "##DEFINING THE SLIDING WINDOW\n",
        "def sliding_window(image, stepSize, windowSize):\n",
        "\t# slide a window across the image\n",
        "\tfor y in range(0, image.shape[0], stepSize):\n",
        "\t\tfor x in range(0, image.shape[1], stepSize):\n",
        "\t\t\t# yield the current window\n",
        "\t\t\tyield (x, y, image[y:y + windowSize[1], x:x + windowSize[0]])"
      ],
      "execution_count": null,
      "outputs": []
    },
    {
      "cell_type": "code",
      "metadata": {
        "id": "O_w-vprMXcT2",
        "colab_type": "code",
        "colab": {}
      },
      "source": [
        "coord_arr = []\n",
        "def arr_generate(image):\n",
        "\n",
        "  count = 1\n",
        "  cnt = 0\n",
        "  for (x, y, window) in sliding_window(image, stepSize=stepsize, windowSize=(winW, winH)):\n",
        "    if window.shape[0]!=winH or window.shape[1]!= winW:\n",
        "      continue\n",
        "    window_gray = cv2.cvtColor(window, cv2.COLOR_BGR2GRAY)\n",
        "    block = Blocks(window_gray,window,x,y,winW)\n",
        "    char_feat = block.compute_characteristic_features(2)\n",
        "    if count == 1:\n",
        "      arr_flat = []\n",
        "      count = 2\n",
        "    coord_arr.append((x,y)) #### storing the top-left coordinates of each block\n",
        "    #window = window.flatten()\n",
        "    #window = window.tolist()\n",
        "    arr_flat.append(char_feat)   \n",
        "\n",
        "  return arr_flat"
      ],
      "execution_count": null,
      "outputs": []
    },
    {
      "cell_type": "code",
      "metadata": {
        "id": "2dd9DpoXZrja",
        "colab_type": "code",
        "colab": {}
      },
      "source": [
        "arr = arr_generate(img_resize)"
      ],
      "execution_count": null,
      "outputs": []
    },
    {
      "cell_type": "code",
      "metadata": {
        "id": "zR5c4yj3bO6s",
        "colab_type": "code",
        "colab": {}
      },
      "source": [
        "arr = np.array(arr)"
      ],
      "execution_count": null,
      "outputs": []
    },
    {
      "cell_type": "code",
      "metadata": {
        "id": "dd9vpqdQbeu_",
        "colab_type": "code",
        "colab": {
          "base_uri": "https://localhost:8080/",
          "height": 34
        },
        "outputId": "19c4962a-0327-4507-81d3-e6bbf14aa70b"
      },
      "source": [
        "arr.shape"
      ],
      "execution_count": null,
      "outputs": [
        {
          "output_type": "execute_result",
          "data": {
            "text/plain": [
              "(47089, 7)"
            ]
          },
          "metadata": {
            "tags": []
          },
          "execution_count": 100
        }
      ]
    },
    {
      "cell_type": "code",
      "metadata": {
        "id": "k7Autm9CbrjM",
        "colab_type": "code",
        "colab": {}
      },
      "source": [
        "###Lexicographical Sorting \n",
        "\n",
        "def lexsort(x):\n",
        "  return x[np.lexsort(np.rot90(x))]  "
      ],
      "execution_count": null,
      "outputs": []
    },
    {
      "cell_type": "code",
      "metadata": {
        "id": "SbH8rNQdcBgk",
        "colab_type": "code",
        "colab": {}
      },
      "source": [
        "##Sorted array created above through reduced features\n",
        "arr_sorted = lexsort(arr)\n",
        "print(arr_sorted[50:150])\n",
        "##We have the sorted array"
      ],
      "execution_count": null,
      "outputs": []
    },
    {
      "cell_type": "code",
      "metadata": {
        "id": "NV5au_vwcKHf",
        "colab_type": "code",
        "colab": {
          "base_uri": "https://localhost:8080/",
          "height": 34
        },
        "outputId": "cebf57c6-6bd1-4f81-e1e1-f12f97da42ac"
      },
      "source": [
        "arr_sorted_index = np.lexsort(np.rot90(arr))\n",
        "print(arr_sorted_index)\n",
        "\n",
        "\n",
        "###Now we have the index and the coordinates of the blocks and we need to reorder the coordinates list\n",
        "#coord_arr  --- list of the cooordinates\n",
        "#arr_sorted_index --- list of the indices of the sorted list"
      ],
      "execution_count": null,
      "outputs": [
        {
          "output_type": "stream",
          "text": [
            "[15868 20367 16081 ...   132   215   216]\n"
          ],
          "name": "stdout"
        }
      ]
    },
    {
      "cell_type": "code",
      "metadata": {
        "id": "wm_GlSkvcPhP",
        "colab_type": "code",
        "colab": {}
      },
      "source": [
        "arr_sorted_index = arr_sorted_index.tolist()"
      ],
      "execution_count": null,
      "outputs": []
    },
    {
      "cell_type": "code",
      "metadata": {
        "id": "WzmPLeVgcR-Q",
        "colab_type": "code",
        "colab": {}
      },
      "source": [
        "### Finding the reordered list\n",
        "#coord_arr_sorted = [x for y, x in sorted(zip(arr_sorted_index,coord_arr))]\n",
        "coord_arr_sorted = []\n",
        "for i in arr_sorted_index:\n",
        "  coord_arr_sorted.append(coord_arr[i])\n",
        "##Now we have the list of ordered coordinates of the image blocks"
      ],
      "execution_count": null,
      "outputs": []
    },
    {
      "cell_type": "code",
      "metadata": {
        "id": "7AKaV6gacaQ4",
        "colab_type": "code",
        "colab": {}
      },
      "source": [
        "#### Calculating the pairs of the characteristic feature layer given in eqn 6\n",
        "nb = arr_sorted.shape[0]\n",
        "\n",
        "char_pairs_list = []\n",
        "for i in range(int(nb)):\n",
        "  for j in range(i+1,i+nn) :\n",
        "    if j < nb:\n",
        "      char_pairs_list.append([arr_sorted[i],arr_sorted[j]])\n",
        "\n",
        "\n",
        "#### Calculating the pairs given in eqn 6\n",
        "nb = arr_sorted.shape[0]\n",
        "pairs_list = []\n",
        "for i in range(int(nb)):\n",
        "  for j in range(i+1,i+nn) :\n",
        "    if j < nb:\n",
        "      pairs_list.append([coord_arr_sorted[i],coord_arr_sorted[j]])"
      ],
      "execution_count": null,
      "outputs": []
    },
    {
      "cell_type": "code",
      "metadata": {
        "id": "7Ue7J0x7cfh1",
        "colab_type": "code",
        "colab": {
          "base_uri": "https://localhost:8080/",
          "height": 34
        },
        "outputId": "6a04ed65-12a9-4111-beee-67769c43a974"
      },
      "source": [
        "#### COMPUTING LIST OF OFFSETS\n",
        "\n",
        "offset_list = []\n",
        "for i in range(len(pairs_list)):\n",
        "  if (pairs_list[i][0][0]-pairs_list[i][1][0]) == 0:\n",
        "    offset_list.append([0,abs(pairs_list[i][0][1]-pairs_list[i][1][1])])\n",
        "  else :\n",
        "    offset_list.append([abs(pairs_list[i][0][0]-pairs_list[i][1][0]),pairs_list[i][0][1]-pairs_list[i][1][1]])\n",
        "\n",
        "len(offset_list)"
      ],
      "execution_count": null,
      "outputs": [
        {
          "output_type": "execute_result",
          "data": {
            "text/plain": [
              "47088"
            ]
          },
          "metadata": {
            "tags": []
          },
          "execution_count": 152
        }
      ]
    },
    {
      "cell_type": "code",
      "metadata": {
        "id": "ys6JTrhlrmPH",
        "colab_type": "code",
        "colab": {}
      },
      "source": [
        "#### COMPUTING LIST OF OFFSETS of Character list\n",
        "\n",
        "char_offset_list = []\n",
        "for i in range(len(char_pairs_list)):\n",
        "  each_list = []\n",
        "  for j in range(arr.shape[1]):\n",
        "    each_list.append(char_pairs_list[i][0][j]-char_pairs_list[i][1][j])\n",
        "  char_offset_list.append(each_list)\n",
        "  "
      ],
      "execution_count": null,
      "outputs": []
    },
    {
      "cell_type": "code",
      "metadata": {
        "id": "VyefHkuUwOeP",
        "colab_type": "code",
        "colab": {
          "base_uri": "https://localhost:8080/",
          "height": 104
        },
        "outputId": "d8fe58af-c25e-4550-8326-766ddb7ec58e"
      },
      "source": [
        "diff = np.array(char_offset_list)\n",
        "print(diff.shape)\n",
        "print(diff[0:4])"
      ],
      "execution_count": null,
      "outputs": [
        {
          "output_type": "stream",
          "text": [
            "(47088, 7)\n",
            "[[ 0.    0.    0.    0.    0.    0.    0.  ]\n",
            " [-0.02 -0.28  1.73  0.   -0.01  0.    0.  ]\n",
            " [ 0.   -0.49 -0.08  0.    0.    0.01  0.  ]\n",
            " [-0.01  0.74 -1.68  0.    0.01 -0.01  0.  ]]\n"
          ],
          "name": "stdout"
        }
      ]
    },
    {
      "cell_type": "code",
      "metadata": {
        "id": "13QcAaU_wvpX",
        "colab_type": "code",
        "colab": {}
      },
      "source": [
        "### COMPARISON PARAMETERS\n",
        "p = np.array([1.8,1.8,1.8,0.0125,0.0125,0.0125,0.0125])\n",
        "t1 = 2.8\n",
        "t2 = 0.02\n",
        "b = 16\n",
        "l = 50"
      ],
      "execution_count": null,
      "outputs": []
    },
    {
      "cell_type": "code",
      "metadata": {
        "id": "Kv3iVs1MyxFo",
        "colab_type": "code",
        "colab": {}
      },
      "source": [
        "def check_function(array):\n",
        "\n",
        "  index = []\n",
        "  for i in range(array.shape[0]):\n",
        "    if int(all(array[i] < p)) == 1:      ### 1st check\n",
        "      if (array[i][0] + array[i][1] + array[i][2]) < t1 :\n",
        "        if (array[i][3] + array[i][4] + array[i][5] + array[i][6]) < t2 :\n",
        "          array[i] = 0\n",
        "\n",
        "  for i in range(array.shape[0]):\n",
        "    if int(all(array[i] == 0)) == 1:\n",
        "      index.append(i)\n",
        "\n",
        "  return index"
      ],
      "execution_count": null,
      "outputs": []
    },
    {
      "cell_type": "code",
      "metadata": {
        "id": "us2u5QTPROY_",
        "colab_type": "code",
        "colab": {}
      },
      "source": [
        "indices = check_function(diff)"
      ],
      "execution_count": null,
      "outputs": []
    },
    {
      "cell_type": "code",
      "metadata": {
        "id": "QRPz1ab1UZYN",
        "colab_type": "code",
        "colab": {
          "base_uri": "https://localhost:8080/",
          "height": 34
        },
        "outputId": "8452707f-3aca-4cac-d28b-3db2e084ca5a"
      },
      "source": [
        "len(indices)"
      ],
      "execution_count": null,
      "outputs": [
        {
          "output_type": "execute_result",
          "data": {
            "text/plain": [
              "20158"
            ]
          },
          "metadata": {
            "tags": []
          },
          "execution_count": 158
        }
      ]
    },
    {
      "cell_type": "code",
      "metadata": {
        "id": "FJ9zFAAhUay1",
        "colab_type": "code",
        "colab": {
          "base_uri": "https://localhost:8080/",
          "height": 34
        },
        "outputId": "5792b377-5f0c-41e9-c557-86f2ec45abe5"
      },
      "source": [
        "#### COMPUTING LIST OF OFFSETS according to indices\n",
        "\n",
        "offset_list = []\n",
        "for i in indices:\n",
        "  if (pairs_list[i][0][0]-pairs_list[i][1][0]) == 0:\n",
        "    offset_list.append([0,abs(pairs_list[i][0][1]-pairs_list[i][1][1])])\n",
        "  else :\n",
        "    offset_list.append([abs(pairs_list[i][0][0]-pairs_list[i][1][0]),pairs_list[i][0][1]-pairs_list[i][1][1]])\n",
        "\n",
        "len(offset_list)"
      ],
      "execution_count": null,
      "outputs": [
        {
          "output_type": "execute_result",
          "data": {
            "text/plain": [
              "20158"
            ]
          },
          "metadata": {
            "tags": []
          },
          "execution_count": 159
        }
      ]
    },
    {
      "cell_type": "code",
      "metadata": {
        "id": "5XX-u6PnW9h8",
        "colab_type": "code",
        "colab": {}
      },
      "source": [
        "\n",
        "### DISCARDING PAIRS WITH VALUES LESS THAN OFFSET FREQUENCY \n",
        "mp = dict()\n",
        "def offset_freq(list1):\n",
        "  lista = list1.copy()\n",
        "  for i in range(len(lista)):\n",
        "    if tuple(lista[i]) in mp.keys():\n",
        "      mp[tuple(lista[i])] +=1\n",
        "    else:\n",
        "      mp[tuple(lista[i])] = 1\n",
        "\n",
        "  for j in range(len(lista)):\n",
        "    if mp[tuple(lista[j])]< nf:\n",
        "      lista[j] = 0            \n",
        "  return lista  \n",
        "\n",
        "\n",
        "\n",
        "#### DISCARD FUNCTION FOR OFFSET MAGNITUDE\n",
        "\n",
        "def offset_magnitude(lista):\n",
        "  \n",
        "  for i in range(len(lista)):\n",
        "    if lista[i]!=0:\n",
        "      magnitude = math.sqrt(lista[i][0]**2+lista[i][1]**2)\n",
        "      if magnitude > nd:\n",
        "        lista[i] = None\n",
        "      else :\n",
        "        lista[i] = 0      \n",
        "      \n",
        "  return lista  "
      ],
      "execution_count": null,
      "outputs": []
    },
    {
      "cell_type": "code",
      "metadata": {
        "id": "AFkuOZ-IZOAh",
        "colab_type": "code",
        "colab": {}
      },
      "source": [
        "lista = offset_freq(offset_list)"
      ],
      "execution_count": null,
      "outputs": []
    },
    {
      "cell_type": "code",
      "metadata": {
        "id": "3ioHBcyLZRWD",
        "colab_type": "code",
        "colab": {}
      },
      "source": [
        "updated_offset_list = offset_magnitude(lista)"
      ],
      "execution_count": null,
      "outputs": []
    },
    {
      "cell_type": "code",
      "metadata": {
        "id": "JIjMOThh2XpX",
        "colab_type": "code",
        "colab": {
          "base_uri": "https://localhost:8080/",
          "height": 34
        },
        "outputId": "e9d84635-fe24-42e5-ed66-f255682bdbb8"
      },
      "source": [
        "len(updated_offset_list)"
      ],
      "execution_count": null,
      "outputs": [
        {
          "output_type": "execute_result",
          "data": {
            "text/plain": [
              "20158"
            ]
          },
          "metadata": {
            "tags": []
          },
          "execution_count": 173
        }
      ]
    },
    {
      "cell_type": "code",
      "metadata": {
        "id": "S6ZeoPbwY2a0",
        "colab_type": "code",
        "colab": {}
      },
      "source": [
        "mp"
      ],
      "execution_count": null,
      "outputs": []
    },
    {
      "cell_type": "code",
      "metadata": {
        "id": "aUenhwCIea6L",
        "colab_type": "code",
        "colab": {}
      },
      "source": [
        "### MAPPING OF NONE ELEMENTS TO THE COORDINATES\n",
        "\n",
        "## getting the indices of the None elements\n",
        "res = [i for i, val in enumerate(updated_offset_list) if val == None]\n",
        "\n",
        "### RETRIEVE THE DUPLICATED COORDINATE PAIRS \n",
        "updated_pairs_list = []\n",
        "for i in res:\n",
        "  updated_pairs_list.append(pairs_list[i]) "
      ],
      "execution_count": null,
      "outputs": []
    },
    {
      "cell_type": "code",
      "metadata": {
        "id": "hRFJsoNHdq6j",
        "colab_type": "code",
        "colab": {}
      },
      "source": [
        "### Flattening the Updated_pairs_list\n",
        "flat_list = []\n",
        "for sublist in updated_pairs_list:\n",
        "    for item in sublist:\n",
        "        flat_list.append(item)"
      ],
      "execution_count": null,
      "outputs": []
    },
    {
      "cell_type": "code",
      "metadata": {
        "id": "a4wloUoM2TxW",
        "colab_type": "code",
        "colab": {
          "base_uri": "https://localhost:8080/",
          "height": 34
        },
        "outputId": "4bab696d-7504-4bdb-8674-c8568d380e45"
      },
      "source": [
        "len(flat_list)"
      ],
      "execution_count": null,
      "outputs": [
        {
          "output_type": "execute_result",
          "data": {
            "text/plain": [
              "31434"
            ]
          },
          "metadata": {
            "tags": []
          },
          "execution_count": 177
        }
      ]
    },
    {
      "cell_type": "code",
      "metadata": {
        "id": "gMqW9FEIdww9",
        "colab_type": "code",
        "colab": {}
      },
      "source": [
        "### FINAL LIST CONSISTING OF TUPLES OF COORDINATES WITH DUPLICATIONS WHICH WILL BE DIRECTLY USED TO GENERATE THE GRAYSCALE IMAGE\n",
        "unique = np.unique(flat_list, axis=0)"
      ],
      "execution_count": null,
      "outputs": []
    },
    {
      "cell_type": "code",
      "metadata": {
        "id": "-2uejHZKdzFV",
        "colab_type": "code",
        "colab": {
          "base_uri": "https://localhost:8080/",
          "height": 286
        },
        "outputId": "65d87a47-64e4-4ee6-fff8-b47bd8822f2b"
      },
      "source": [
        "### creating an array of the same size as that of resized input image\n",
        "duplication = np.zeros((img_resize.shape[0],img_resize.shape[1]))\n",
        "\n",
        "### Giving values to the duplicated regions as 255\n",
        "for coord in unique:\n",
        "  duplication[coord[0]:coord[0]+winW,coord[1]:coord[1]+winH] = 255  \n",
        "\n",
        "duplication_rotate = cv2.rotate(duplication,cv2.ROTATE_90_COUNTERCLOCKWISE)\n",
        "dup_aligned = cv2.flip(duplication_rotate,0)\n",
        "### Showing the image\n",
        "plt.gray\n",
        "plt.imshow(dup_aligned, cmap = 'gray', vmin = 0, vmax = 255)  "
      ],
      "execution_count": null,
      "outputs": [
        {
          "output_type": "execute_result",
          "data": {
            "text/plain": [
              "<matplotlib.image.AxesImage at 0x7efc059cd198>"
            ]
          },
          "metadata": {
            "tags": []
          },
          "execution_count": 179
        },
        {
          "output_type": "display_data",
          "data": {
            "image/png": "[encoded data removed]",
            "text/plain": [
              "<Figure size 432x288 with 1 Axes>"
            ]
          },
          "metadata": {
            "tags": [],
            "needs_background": "light"
          }
        }
      ]
    },
    {
      "cell_type": "code",
      "metadata": {
        "id": "c4Lh_4hhd0zl",
        "colab_type": "code",
        "colab": {}
      },
      "source": [
        "plt.imshow(img_resize)"
      ],
      "execution_count": null,
      "outputs": []
    },
    {
      "cell_type": "markdown",
      "metadata": {
        "id": "J23jHZyaipBH",
        "colab_type": "text"
      },
      "source": [
        "**##############################################################**"
      ]
    },
    {
      "cell_type": "code",
      "metadata": {
        "id": "9yTLgMiqoTdb",
        "colab_type": "code",
        "colab": {}
      },
      "source": [
        ""
      ],
      "execution_count": null,
      "outputs": []
    }
  ]
}
