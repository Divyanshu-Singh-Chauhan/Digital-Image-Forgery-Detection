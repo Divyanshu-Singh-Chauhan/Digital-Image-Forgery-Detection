{
  "nbformat": 4,
  "nbformat_minor": 0,
  "metadata": {
    "kernelspec": {
      "display_name": "Python 3",
      "language": "python",
      "name": "python3"
    },
    "language_info": {
      "codemirror_mode": {
        "name": "ipython",
        "version": 3
      },
      "file_extension": ".py",
      "mimetype": "text/x-python",
      "name": "python",
      "nbconvert_exporter": "python",
      "pygments_lexer": "ipython3",
      "version": "3.7.6"
    },
    "varInspector": {
      "cols": {
        "lenName": 16,
        "lenType": 16,
        "lenVar": 40
      },
      "kernels_config": {
        "python": {
          "delete_cmd_postfix": "",
          "delete_cmd_prefix": "del ",
          "library": "var_list.py",
          "varRefreshCmd": "print(var_dic_list())"
        },
        "r": {
          "delete_cmd_postfix": ") ",
          "delete_cmd_prefix": "rm(",
          "library": "var_list.r",
          "varRefreshCmd": "cat(var_dic_list()) "
        }
      },
      "types_to_exclude": [
        "module",
        "function",
        "builtin_function_or_method",
        "instance",
        "_Feature"
      ],
      "window_display": false
    },
    "colab": {
      "name": "DL_Simple1",
      "provenance": [],
      "collapsed_sections": [],
      "include_colab_link": true
    },
    "accelerator": "GPU"
  },
  "cells": [
    {
      "cell_type": "markdown",
      "metadata": {
        "id": "view-in-github",
        "colab_type": "text"
      },
      "source": [
        "<a href=\"https://colab.research.google.com/github/Divyanshu-Singh-Chauhan/Image-Forgery-Detection/blob/DL/DL_Simple1.ipynb\" target=\"_parent\"><img src=\"https://colab.research.google.com/assets/colab-badge.svg\" alt=\"Open In Colab\"/></a>"
      ]
    },
    {
      "cell_type": "code",
      "metadata": {
        "id": "nmg-c0MnOA0c",
        "colab_type": "code",
        "outputId": "d925e0cc-2e9e-4ae0-c1c1-13d549479b68",
        "colab": {
          "base_uri": "https://localhost:8080/",
          "height": 141
        }
      },
      "source": [
        "\"\"\"from google.colab import drive\n",
        "drive.mount('/content/drive')\"\"\"\n",
        "from google.colab import drive\n",
        "drive.mount('/gdrive')\n",
        "%cd /gdrive/My\\ Drive/Colab Notebooks/\n"
      ],
      "execution_count": 1,
      "outputs": [
        {
          "output_type": "stream",
          "text": [
            "Go to this URL in a browser: https://accounts.google.com/o/oauth2/auth?client_id=947318989803-6bn6qk8qdgf4n4g3pfee6491hc0brc4i.apps.googleusercontent.com&redirect_uri=urn%3aietf%3awg%3aoauth%3a2.0%3aoob&response_type=code&scope=email%20https%3a%2f%2fwww.googleapis.com%2fauth%2fdocs.test%20https%3a%2f%2fwww.googleapis.com%2fauth%2fdrive%20https%3a%2f%2fwww.googleapis.com%2fauth%2fdrive.photos.readonly%20https%3a%2f%2fwww.googleapis.com%2fauth%2fpeopleapi.readonly\n",
            "\n",
            "Enter your authorization code:\n",
            "··········\n",
            "Mounted at /gdrive\n",
            "/gdrive/My Drive/Colab Notebooks\n"
          ],
          "name": "stdout"
        }
      ]
    },
    {
      "cell_type": "code",
      "metadata": {
        "id": "DlfZN3rbLgwy",
        "colab_type": "code",
        "colab": {
          "base_uri": "https://localhost:8080/",
          "height": 34
        },
        "outputId": "06fcfc25-9235-4d64-9596-688334f2c8e2"
      },
      "source": [
        "from google.colab import drive\n",
        "drive.mount('/content/drive')"
      ],
      "execution_count": 2,
      "outputs": [
        {
          "output_type": "stream",
          "text": [
            "Mounted at /content/drive\n"
          ],
          "name": "stdout"
        }
      ]
    },
    {
      "cell_type": "code",
      "metadata": {
        "id": "QAzFzronOerc",
        "colab_type": "code",
        "colab": {}
      },
      "source": [
        "import os \n",
        "os.chdir('/content')\n",
        "#os.chdir('drive')"
      ],
      "execution_count": 0,
      "outputs": []
    },
    {
      "cell_type": "code",
      "metadata": {
        "id": "yDer-L-tNu75",
        "colab_type": "code",
        "colab": {
          "base_uri": "https://localhost:8080/",
          "height": 34
        },
        "outputId": "0be34e56-414f-482c-bea4-512576ae8c1a"
      },
      "source": [
        "#nor_es\n",
        "import os\n",
        "import io\n",
        "import numpy as np\n",
        "from keras.preprocessing import image\n",
        "import pandas as pd\n",
        "from PIL import Image, ImageChops, ImageEnhance\n",
        "import os\n",
        "from keras.layers import Input, Dense, Conv2D, MaxPooling2D, GlobalAveragePooling2D\n",
        "from keras.layers import Flatten\n",
        "from keras.layers import Dropout\n",
        "from keras.models import Model, Sequential \n",
        "from keras import backend as K\n",
        "from keras.preprocessing.image import ImageDataGenerator\n",
        "import matplotlib.pyplot as plt\n",
        "from keras.optimizers import RMSprop\n",
        "from keras.callbacks import ReduceLROnPlateau, EarlyStopping\n",
        "import tensorflow as tf\n",
        "\n",
        "\n"
      ],
      "execution_count": 4,
      "outputs": [
        {
          "output_type": "stream",
          "text": [
            "Using TensorFlow backend.\n"
          ],
          "name": "stderr"
        }
      ]
    },
    {
      "cell_type": "code",
      "metadata": {
        "id": "aCBrbpdWNu8C",
        "colab_type": "code",
        "colab": {}
      },
      "source": [
        "def jpeg_compression(img: Image.Image, quality: int=90) -> Image.Image:\n",
        "    if img.mode != 'RGB':\n",
        "        img = img.convert('RGB')\n",
        "    buffer = io.BytesIO()\n",
        "    img.save(buffer, format='JPEG', quality=quality)\n",
        "    im_data = buffer.getvalue()\n",
        "    img = Image.open(io.BytesIO(im_data))\n",
        "    buffer.close()\n",
        "    return img\n"
      ],
      "execution_count": 0,
      "outputs": []
    },
    {
      "cell_type": "code",
      "metadata": {
        "id": "l4iGNaAzNu8I",
        "colab_type": "code",
        "colab": {}
      },
      "source": [
        "def convert_to_ela(img):\n",
        "    im = img.convert('RGB')\n",
        "    resaved_im = jpeg_compression(im)\n",
        "    \n",
        "    ela_im = ImageChops.difference(im, resaved_im)\n",
        "    \n",
        "    extrema = ela_im.getextrema()\n",
        "    max_diff = max([ex[1] for ex in extrema])\n",
        "    if max_diff == 0:\n",
        "        max_diff = 1\n",
        "    scale = 255.0 / max_diff\n",
        "    \n",
        "    ela_im = ImageEnhance.Brightness(ela_im).enhance(scale)\n",
        "    \n",
        "    return ela_im"
      ],
      "execution_count": 0,
      "outputs": []
    },
    {
      "cell_type": "code",
      "metadata": {
        "id": "t8JTMynTNu8V",
        "colab_type": "code",
        "colab": {}
      },
      "source": [
        "#Defining Parameters\n",
        "batch_size = 100\n",
        "nb_epochs = 30\n",
        "img_width = 128\n",
        "img_height = 128\n",
        "data_path = \"/content/drive/My Drive/casia_ela\""
      ],
      "execution_count": 0,
      "outputs": []
    },
    {
      "cell_type": "code",
      "metadata": {
        "id": "JFupp3UD4lm5",
        "colab_type": "code",
        "colab": {}
      },
      "source": [
        "#### MODEL DEFINING\n",
        "\n",
        "model = tf.keras.models.Sequential([# Note the input shape is the desired size of the image 150x150 with 3 bytes color\n",
        "    tf.keras.layers.Conv2D(16, (3,3), activation='relu', input_shape=(128, 128, 3)),\n",
        "    tf.keras.layers.BatchNormalization(),\n",
        "    tf.keras.layers.MaxPooling2D(2,2),\n",
        "    tf.keras.layers.Conv2D(32, (3,3), activation='relu'),\n",
        "    tf.keras.layers.BatchNormalization(),\n",
        "    tf.keras.layers.MaxPooling2D(2,2), \n",
        "    tf.keras.layers.Conv2D(64, (3,3), activation='relu'), \n",
        "    tf.keras.layers.BatchNormalization(),\n",
        "    tf.keras.layers.MaxPooling2D(2,2),\n",
        "    # Flatten the results to feed into a DNN\n",
        "    tf.keras.layers.Flatten(), \n",
        "    # 512 neuron hidden layer\n",
        "    tf.keras.layers.Dense(512, activation='relu'), \n",
        "    tf.keras.layers.Dropout(0.2),\n",
        "    # Only 1 output neuron. It will contain a value from 0-1 where 0 for 1 class ('cats') and 1 for the other ('dogs')\n",
        "    tf.keras.layers.Dense(1, activation='sigmoid')])"
      ],
      "execution_count": 0,
      "outputs": []
    },
    {
      "cell_type": "code",
      "metadata": {
        "id": "fZjE8nze46_x",
        "colab_type": "code",
        "outputId": "5822b156-4289-4966-fb60-96d815debd89",
        "colab": {
          "base_uri": "https://localhost:8080/",
          "height": 606
        }
      },
      "source": [
        "model.summary()"
      ],
      "execution_count": 42,
      "outputs": [
        {
          "output_type": "stream",
          "text": [
            "Model: \"sequential_2\"\n",
            "_________________________________________________________________\n",
            "Layer (type)                 Output Shape              Param #   \n",
            "=================================================================\n",
            "conv2d_6 (Conv2D)            (None, 126, 126, 16)      448       \n",
            "_________________________________________________________________\n",
            "batch_normalization_6 (Batch (None, 126, 126, 16)      64        \n",
            "_________________________________________________________________\n",
            "max_pooling2d_6 (MaxPooling2 (None, 63, 63, 16)        0         \n",
            "_________________________________________________________________\n",
            "conv2d_7 (Conv2D)            (None, 61, 61, 32)        4640      \n",
            "_________________________________________________________________\n",
            "batch_normalization_7 (Batch (None, 61, 61, 32)        128       \n",
            "_________________________________________________________________\n",
            "max_pooling2d_7 (MaxPooling2 (None, 30, 30, 32)        0         \n",
            "_________________________________________________________________\n",
            "conv2d_8 (Conv2D)            (None, 28, 28, 64)        18496     \n",
            "_________________________________________________________________\n",
            "batch_normalization_8 (Batch (None, 28, 28, 64)        256       \n",
            "_________________________________________________________________\n",
            "max_pooling2d_8 (MaxPooling2 (None, 14, 14, 64)        0         \n",
            "_________________________________________________________________\n",
            "flatten_2 (Flatten)          (None, 12544)             0         \n",
            "_________________________________________________________________\n",
            "dense_4 (Dense)              (None, 512)               6423040   \n",
            "_________________________________________________________________\n",
            "dropout (Dropout)            (None, 512)               0         \n",
            "_________________________________________________________________\n",
            "dense_5 (Dense)              (None, 1)                 513       \n",
            "=================================================================\n",
            "Total params: 6,447,585\n",
            "Trainable params: 6,447,361\n",
            "Non-trainable params: 224\n",
            "_________________________________________________________________\n"
          ],
          "name": "stdout"
        }
      ]
    },
    {
      "cell_type": "code",
      "metadata": {
        "id": "gerltColNu8n",
        "colab_type": "code",
        "colab": {}
      },
      "source": [
        "#optimizer = RMSprop(lr=0.0005, rho=0.9, epsilon=1e-08, decay=0.0)\n",
        "from tensorflow.keras.optimizers import RMSprop\n",
        "model.compile(optimizer=RMSprop(lr=0.001),\n",
        "              loss='binary_crossentropy',\n",
        "              metrics = ['acc'])"
      ],
      "execution_count": 0,
      "outputs": []
    },
    {
      "cell_type": "code",
      "metadata": {
        "id": "2nICxRYPNu8y",
        "colab_type": "code",
        "colab": {}
      },
      "source": [
        "###### CALLBACKS ##########\n",
        "\n",
        "\n",
        "from tensorflow.keras.callbacks import EarlyStopping, ModelCheckpoint, ReduceLROnPlateau\n",
        "\n",
        "### EARLYSTOPPING CALLBACK\n",
        "# early_stopping = EarlyStopping(monitor='val_acc',\n",
        "#                                min_delta=0,\n",
        "#                                patience=2,\n",
        "#                                verbose=0, mode='auto')\n",
        "\n",
        "### MODELCHECKPOINT CALLBACK\n",
        "save = ModelCheckpoint('/content/drive/My Drive/weights/w.h5', save_best_only=True, monitor='val_loss', mode='min')\n",
        "\n",
        "### REDUCES LR WHEN METRTIC IS NOT IMPROVING\n",
        "reduce_lr = ReduceLROnPlateau(monitor='val_loss', factor=0.1, patience=10, verbose=1, min_delta =1e-4, mode='min')\n",
        "\n",
        "### LEARNING RATE SCHEDULER\n",
        "def scheduler(epoch):\n",
        "  if epoch < 5:\n",
        "    return 0.001\n",
        "  else:\n",
        "    return 0.001 * tf.math.exp(0.1 * (5 - epoch))\n",
        "\n",
        "lr_schedule = tf.keras.callbacks.LearningRateScheduler(scheduler)    "
      ],
      "execution_count": 0,
      "outputs": []
    },
    {
      "cell_type": "code",
      "metadata": {
        "id": "zcV_Ka-_Nu89",
        "colab_type": "code",
        "colab": {}
      },
      "source": [
        "train_datagen = ImageDataGenerator(rescale=1./255,\n",
        "    shear_range=0.2,\n",
        "    zoom_range=0.2,\n",
        "    horizontal_flip=True,\n",
        "    validation_split=0.2)"
      ],
      "execution_count": 0,
      "outputs": []
    },
    {
      "cell_type": "code",
      "metadata": {
        "id": "XFrg2dBoNu9C",
        "colab_type": "code",
        "colab": {}
      },
      "source": [
        "import os\n",
        "os.chdir('/content')"
      ],
      "execution_count": 0,
      "outputs": []
    },
    {
      "cell_type": "code",
      "metadata": {
        "id": "C26151D2Nu9G",
        "colab_type": "code",
        "outputId": "b2fea4b1-0ba9-49b9-e0dc-33a6c70e8ae3",
        "colab": {
          "base_uri": "https://localhost:8080/",
          "height": 34
        }
      },
      "source": [
        "train_data = train_datagen.flow_from_directory(\n",
        "    data_path,\n",
        "    target_size=(img_width, img_height),\n",
        "    batch_size=batch_size,\n",
        "    class_mode='binary',\n",
        "    subset='training')"
      ],
      "execution_count": 49,
      "outputs": [
        {
          "output_type": "stream",
          "text": [
            "Found 11469 images belonging to 2 classes.\n"
          ],
          "name": "stdout"
        }
      ]
    },
    {
      "cell_type": "code",
      "metadata": {
        "id": "uVNogOvBNu9L",
        "colab_type": "code",
        "outputId": "fbdda44a-e289-4e32-98ac-14fc53a3bb2a",
        "colab": {
          "base_uri": "https://localhost:8080/",
          "height": 34
        }
      },
      "source": [
        "validation_data = train_datagen.flow_from_directory(\n",
        "    data_path, # same directory as training data\n",
        "    target_size=(img_width, img_height),\n",
        "    batch_size=batch_size,\n",
        "    class_mode='binary',\n",
        "    subset='validation')"
      ],
      "execution_count": 50,
      "outputs": [
        {
          "output_type": "stream",
          "text": [
            "Found 2866 images belonging to 2 classes.\n"
          ],
          "name": "stdout"
        }
      ]
    },
    {
      "cell_type": "code",
      "metadata": {
        "id": "6gguAWOkhNGY",
        "colab_type": "code",
        "colab": {}
      },
      "source": [
        "path_to_weights = '/content/drive/My Drive/weights/w.h5'\n",
        "model.load_weights(path_to_weights)"
      ],
      "execution_count": 0,
      "outputs": []
    },
    {
      "cell_type": "code",
      "metadata": {
        "id": "HsxRozHeNu9V",
        "colab_type": "code",
        "outputId": "f85a3c39-1d57-4f33-c548-87997775b6d8",
        "colab": {
          "base_uri": "https://localhost:8080/",
          "height": 1000
        }
      },
      "source": [
        "history = model.fit(\n",
        "            train_data,\n",
        "            steps_per_epoch = train_data.samples // batch_size,\n",
        "            validation_data = validation_data, \n",
        "            validation_steps = validation_data.samples // batch_size,\n",
        "            epochs = 30,\n",
        "            callbacks = [save, lr_schedule])"
      ],
      "execution_count": 52,
      "outputs": [
        {
          "output_type": "stream",
          "text": [
            "Epoch 1/30\n",
            "114/114 [==============================] - 114s 996ms/step - loss: 0.2117 - acc: 0.9115 - val_loss: 1.3416 - val_acc: 0.6621 - lr: 0.0010\n",
            "Epoch 2/30\n",
            "114/114 [==============================] - 113s 988ms/step - loss: 0.1932 - acc: 0.9229 - val_loss: 1.8586 - val_acc: 0.5371 - lr: 0.0010\n",
            "Epoch 3/30\n",
            "114/114 [==============================] - 112s 983ms/step - loss: 0.1946 - acc: 0.9259 - val_loss: 1.1113 - val_acc: 0.6514 - lr: 0.0010\n",
            "Epoch 4/30\n",
            "114/114 [==============================] - 111s 975ms/step - loss: 0.1859 - acc: 0.9292 - val_loss: 1.6275 - val_acc: 0.6811 - lr: 0.0010\n",
            "Epoch 5/30\n",
            "114/114 [==============================] - 110s 969ms/step - loss: 0.1795 - acc: 0.9303 - val_loss: 1.0954 - val_acc: 0.6314 - lr: 0.0010\n",
            "Epoch 6/30\n",
            "114/114 [==============================] - 111s 972ms/step - loss: 0.1682 - acc: 0.9333 - val_loss: 2.1969 - val_acc: 0.6871 - lr: 0.0010\n",
            "Epoch 7/30\n",
            "114/114 [==============================] - 110s 963ms/step - loss: 0.1620 - acc: 0.9370 - val_loss: 1.3889 - val_acc: 0.6904 - lr: 9.0484e-04\n",
            "Epoch 8/30\n",
            "114/114 [==============================] - 112s 983ms/step - loss: 0.1454 - acc: 0.9417 - val_loss: 1.1068 - val_acc: 0.7086 - lr: 8.1873e-04\n",
            "Epoch 9/30\n",
            "114/114 [==============================] - 111s 976ms/step - loss: 0.1350 - acc: 0.9487 - val_loss: 1.2322 - val_acc: 0.7246 - lr: 7.4082e-04\n",
            "Epoch 10/30\n",
            "114/114 [==============================] - 110s 969ms/step - loss: 0.1241 - acc: 0.9512 - val_loss: 1.3969 - val_acc: 0.7068 - lr: 6.7032e-04\n",
            "Epoch 11/30\n",
            "114/114 [==============================] - 111s 970ms/step - loss: 0.1118 - acc: 0.9567 - val_loss: 1.3160 - val_acc: 0.7300 - lr: 6.0653e-04\n",
            "Epoch 12/30\n",
            "114/114 [==============================] - 111s 970ms/step - loss: 0.1124 - acc: 0.9562 - val_loss: 2.0316 - val_acc: 0.7139 - lr: 5.4881e-04\n",
            "Epoch 13/30\n",
            "114/114 [==============================] - 111s 972ms/step - loss: 0.1030 - acc: 0.9602 - val_loss: 1.3309 - val_acc: 0.7171 - lr: 4.9659e-04\n",
            "Epoch 14/30\n",
            "114/114 [==============================] - 112s 984ms/step - loss: 0.1000 - acc: 0.9636 - val_loss: 1.2319 - val_acc: 0.7261 - lr: 4.4933e-04\n",
            "Epoch 15/30\n",
            "114/114 [==============================] - 111s 977ms/step - loss: 0.0932 - acc: 0.9645 - val_loss: 1.9761 - val_acc: 0.7246 - lr: 4.0657e-04\n",
            "Epoch 16/30\n",
            "114/114 [==============================] - 111s 973ms/step - loss: 0.0881 - acc: 0.9654 - val_loss: 1.7137 - val_acc: 0.6946 - lr: 3.6788e-04\n",
            "Epoch 17/30\n",
            "114/114 [==============================] - 114s 1s/step - loss: 0.0845 - acc: 0.9675 - val_loss: 1.8798 - val_acc: 0.7221 - lr: 3.3287e-04\n",
            "Epoch 18/30\n",
            "114/114 [==============================] - 114s 1s/step - loss: 0.0841 - acc: 0.9698 - val_loss: 1.4008 - val_acc: 0.7171 - lr: 3.0119e-04\n",
            "Epoch 19/30\n",
            "114/114 [==============================] - 111s 977ms/step - loss: 0.0704 - acc: 0.9741 - val_loss: 1.5580 - val_acc: 0.7289 - lr: 2.7253e-04\n",
            "Epoch 20/30\n",
            "114/114 [==============================] - 115s 1s/step - loss: 0.0722 - acc: 0.9735 - val_loss: 1.9293 - val_acc: 0.7207 - lr: 2.4660e-04\n",
            "Epoch 21/30\n",
            "114/114 [==============================] - 115s 1s/step - loss: 0.0719 - acc: 0.9738 - val_loss: 2.1158 - val_acc: 0.7114 - lr: 2.2313e-04\n",
            "Epoch 22/30\n",
            "114/114 [==============================] - 114s 999ms/step - loss: 0.0642 - acc: 0.9763 - val_loss: 2.3056 - val_acc: 0.7121 - lr: 2.0190e-04\n",
            "Epoch 23/30\n",
            "114/114 [==============================] - 113s 992ms/step - loss: 0.0697 - acc: 0.9765 - val_loss: 1.8966 - val_acc: 0.7275 - lr: 1.8268e-04\n",
            "Epoch 24/30\n",
            "114/114 [==============================] - 114s 996ms/step - loss: 0.0621 - acc: 0.9758 - val_loss: 2.2204 - val_acc: 0.7300 - lr: 1.6530e-04\n",
            "Epoch 25/30\n",
            "114/114 [==============================] - 114s 998ms/step - loss: 0.0538 - acc: 0.9794 - val_loss: 1.8613 - val_acc: 0.7282 - lr: 1.4957e-04\n",
            "Epoch 26/30\n",
            "114/114 [==============================] - 112s 986ms/step - loss: 0.0591 - acc: 0.9790 - val_loss: 1.6758 - val_acc: 0.7393 - lr: 1.3534e-04\n",
            "Epoch 27/30\n",
            "114/114 [==============================] - 109s 960ms/step - loss: 0.0618 - acc: 0.9805 - val_loss: 2.0648 - val_acc: 0.7318 - lr: 1.2246e-04\n",
            "Epoch 28/30\n",
            "114/114 [==============================] - 110s 962ms/step - loss: 0.0490 - acc: 0.9812 - val_loss: 2.0919 - val_acc: 0.7271 - lr: 1.1080e-04\n",
            "Epoch 29/30\n",
            "114/114 [==============================] - 109s 955ms/step - loss: 0.0487 - acc: 0.9818 - val_loss: 1.9265 - val_acc: 0.7311 - lr: 1.0026e-04\n",
            "Epoch 30/30\n",
            "114/114 [==============================] - 108s 950ms/step - loss: 0.0510 - acc: 0.9815 - val_loss: 2.0490 - val_acc: 0.7361 - lr: 9.0718e-05\n"
          ],
          "name": "stdout"
        }
      ]
    },
    {
      "cell_type": "code",
      "metadata": {
        "id": "3Y0uZm9eNu9o",
        "colab_type": "code",
        "colab": {
          "base_uri": "https://localhost:8080/",
          "height": 34
        },
        "outputId": "9126f8fc-ff87-410f-a8b4-39c6207f43cd"
      },
      "source": [
        " print(history.history.keys())"
      ],
      "execution_count": 53,
      "outputs": [
        {
          "output_type": "stream",
          "text": [
            "dict_keys(['loss', 'acc', 'val_loss', 'val_acc', 'lr'])\n"
          ],
          "name": "stdout"
        }
      ]
    },
    {
      "cell_type": "code",
      "metadata": {
        "id": "PUT0FdeXNu9t",
        "colab_type": "code",
        "colab": {
          "base_uri": "https://localhost:8080/",
          "height": 294
        },
        "outputId": "02315990-643a-4442-98bb-1a5e6fbdc42c"
      },
      "source": [
        "plt.plot(history.history['acc'])\n",
        "plt.plot(history.history['val_acc'])\n",
        "plt.title('model accuracy')\n",
        "plt.ylabel('accuracy')\n",
        "plt.xlabel('epoch')\n",
        "plt.legend(['train', 'test'], loc='upper left')\n",
        "plt.show()\n",
        "\n"
      ],
      "execution_count": 54,
      "outputs": [
        {
          "output_type": "display_data",
          "data": {
            "image/png": "[encoded data removed]",
            "text/plain": [
              "<Figure size 432x288 with 1 Axes>"
            ]
          },
          "metadata": {
            "tags": [],
            "needs_background": "light"
          }
        }
      ]
    },
    {
      "cell_type": "code",
      "metadata": {
        "id": "RbiB3tWGNu9x",
        "colab_type": "code",
        "colab": {
          "base_uri": "https://localhost:8080/",
          "height": 294
        },
        "outputId": "1054164c-097d-4a09-ec4e-ddb262073273"
      },
      "source": [
        "plt.plot(history.history['loss'])\n",
        "plt.plot(history.history['val_loss'])\n",
        "plt.title('model loss')\n",
        "plt.ylabel('loss')\n",
        "plt.xlabel('epoch')\n",
        "plt.legend(['train', 'test'], loc='upper left')\n",
        "plt.show()"
      ],
      "execution_count": 55,
      "outputs": [
        {
          "output_type": "display_data",
          "data": {
            "image/png": "[encoded data removed]",
            "text/plain": [
              "<Figure size 432x288 with 1 Axes>"
            ]
          },
          "metadata": {
            "tags": [],
            "needs_background": "light"
          }
        }
      ]
    },
    {
      "cell_type": "code",
      "metadata": {
        "id": "l3bMESXkNu91",
        "colab_type": "code",
        "colab": {
          "base_uri": "https://localhost:8080/",
          "height": 297
        },
        "outputId": "66971a9d-bc70-4934-d094-0fe6dc2a2024"
      },
      "source": [
        "#Confusion Matrix and Classification Report\n",
        "from sklearn.metrics import classification_report\n",
        "from sklearn.metrics import confusion_matrix\n",
        "Y_pred = model.predict_generator(validation_data, validation_data.samples // batch_size+1)\n",
        "y_pred = np.argmax(Y_pred, axis=1)\n",
        "print('Confusion Matrix')\n",
        "print(confusion_matrix(validation_data.classes, y_pred))\n",
        "\n",
        "\n",
        "print('Classification Report')\n",
        "target_names = ['Aut', 'Tamp']\n",
        "print(classification_report(validation_data.classes, y_pred, target_names=target_names))"
      ],
      "execution_count": 56,
      "outputs": [
        {
          "output_type": "stream",
          "text": [
            "Confusion Matrix\n",
            "[[1658    0]\n",
            " [1208    0]]\n",
            "Classification Report\n",
            "              precision    recall  f1-score   support\n",
            "\n",
            "         Aut       0.58      1.00      0.73      1658\n",
            "        Tamp       0.00      0.00      0.00      1208\n",
            "\n",
            "    accuracy                           0.58      2866\n",
            "   macro avg       0.29      0.50      0.37      2866\n",
            "weighted avg       0.33      0.58      0.42      2866\n",
            "\n"
          ],
          "name": "stdout"
        },
        {
          "output_type": "stream",
          "text": [
            "/usr/local/lib/python3.6/dist-packages/sklearn/metrics/_classification.py:1272: UndefinedMetricWarning: Precision and F-score are ill-defined and being set to 0.0 in labels with no predicted samples. Use `zero_division` parameter to control this behavior.\n",
            "  _warn_prf(average, modifier, msg_start, len(result))\n"
          ],
          "name": "stderr"
        }
      ]
    }
  ]
}